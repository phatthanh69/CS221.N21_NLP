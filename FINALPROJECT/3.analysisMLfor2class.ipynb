{
 "cells": [
  {
   "cell_type": "code",
   "execution_count": 91,
   "id": "ba489f55",
   "metadata": {},
   "outputs": [],
   "source": [
    "import pandas as pd\n",
    "import numpy as np\n",
    "from sklearn.feature_extraction.text import TfidfVectorizer\n",
    "from sklearn.decomposition import TruncatedSVD\n",
    "from sklearn.model_selection import train_test_split\n",
    "from sklearn.neighbors import KNeighborsClassifier\n",
    "from sklearn.ensemble import ExtraTreesClassifier\n",
    "from sklearn.naive_bayes import MultinomialNB\n",
    "from xgboost import XGBClassifier\n",
    "from sklearn.linear_model import LogisticRegression\n",
    "from sklearn.ensemble import RandomForestClassifier\n",
    "from sklearn.metrics import confusion_matrix\n",
    "from datetime import datetime\n",
    "from datetime import timedelta\n",
    "import matplotlib.pyplot as plt\n",
    "import seaborn as sns\n",
    "\n",
    "from sklearn.model_selection import cross_val_score, GridSearchCV\n",
    "from sklearn.metrics import accuracy_score, classification_report, confusion_matrix, roc_auc_score, roc_curve\n",
    "import pickle\n",
    "from sklearn. metrics import classification_report, roc_auc_score, roc_curve"
   ]
  },
  {
   "cell_type": "code",
   "execution_count": 92,
   "id": "5b4006bd",
   "metadata": {},
   "outputs": [],
   "source": [
    "df = pd.read_csv(\"comments_final2.csv\", encoding=\"utf-8\", index_col=0)"
   ]
  },
  {
   "cell_type": "code",
   "execution_count": 93,
   "id": "61b7590a",
   "metadata": {},
   "outputs": [
    {
     "data": {
      "text/plain": [
       "(36932, 3)"
      ]
     },
     "execution_count": 93,
     "metadata": {},
     "output_type": "execute_result"
    }
   ],
   "source": [
    "df.shape"
   ]
  },
  {
   "cell_type": "code",
   "execution_count": 94,
   "id": "39ed96e8",
   "metadata": {
    "scrolled": true
   },
   "outputs": [
    {
     "data": {
      "text/html": [
       "<div>\n",
       "<style scoped>\n",
       "    .dataframe tbody tr th:only-of-type {\n",
       "        vertical-align: middle;\n",
       "    }\n",
       "\n",
       "    .dataframe tbody tr th {\n",
       "        vertical-align: top;\n",
       "    }\n",
       "\n",
       "    .dataframe thead th {\n",
       "        text-align: right;\n",
       "    }\n",
       "</style>\n",
       "<table border=\"1\" class=\"dataframe\">\n",
       "  <thead>\n",
       "    <tr style=\"text-align: right;\">\n",
       "      <th></th>\n",
       "      <th>processed_text</th>\n",
       "      <th>class</th>\n",
       "      <th>word_count</th>\n",
       "    </tr>\n",
       "    <tr>\n",
       "      <th>Column1</th>\n",
       "      <th></th>\n",
       "      <th></th>\n",
       "      <th></th>\n",
       "    </tr>\n",
       "  </thead>\n",
       "  <tbody>\n",
       "    <tr>\n",
       "      <th>601</th>\n",
       "      <td>sách không_đối thần</td>\n",
       "      <td>neutral</td>\n",
       "      <td>3</td>\n",
       "    </tr>\n",
       "    <tr>\n",
       "      <th>3070</th>\n",
       "      <td>tuyệt_đối lượm lỗi</td>\n",
       "      <td>negative</td>\n",
       "      <td>3</td>\n",
       "    </tr>\n",
       "    <tr>\n",
       "      <th>3370</th>\n",
       "      <td>chữ đọc dịch</td>\n",
       "      <td>negative</td>\n",
       "      <td>3</td>\n",
       "    </tr>\n",
       "    <tr>\n",
       "      <th>3784</th>\n",
       "      <td>quá_thất vọng hàng</td>\n",
       "      <td>negative</td>\n",
       "      <td>3</td>\n",
       "    </tr>\n",
       "    <tr>\n",
       "      <th>3881</th>\n",
       "      <td>bì bị_nhăn góc</td>\n",
       "      <td>neutral</td>\n",
       "      <td>3</td>\n",
       "    </tr>\n",
       "  </tbody>\n",
       "</table>\n",
       "</div>"
      ],
      "text/plain": [
       "              processed_text     class  word_count\n",
       "Column1                                           \n",
       "601      sách không_đối thần   neutral           3\n",
       "3070      tuyệt_đối lượm lỗi  negative           3\n",
       "3370            chữ đọc dịch  negative           3\n",
       "3784      quá_thất vọng hàng  negative           3\n",
       "3881          bì bị_nhăn góc   neutral           3"
      ]
     },
     "execution_count": 94,
     "metadata": {},
     "output_type": "execute_result"
    }
   ],
   "source": [
    "df.head()"
   ]
  },
  {
   "cell_type": "code",
   "execution_count": 95,
   "id": "8cc16670",
   "metadata": {},
   "outputs": [],
   "source": [
    "df['class'] = df['class'].apply(lambda x: 0 if x == 'negative' or x== 'neutral' else 1 )"
   ]
  },
  {
   "cell_type": "code",
   "execution_count": 96,
   "id": "12cbdcce",
   "metadata": {},
   "outputs": [
    {
     "data": {
      "text/plain": [
       "1    27643\n",
       "0     9289\n",
       "Name: class, dtype: int64"
      ]
     },
     "execution_count": 96,
     "metadata": {},
     "output_type": "execute_result"
    }
   ],
   "source": [
    "df['class'].value_counts()"
   ]
  },
  {
   "attachments": {},
   "cell_type": "markdown",
   "id": "8949e1ac",
   "metadata": {},
   "source": [
    "### Duplicate Data"
   ]
  },
  {
   "cell_type": "code",
   "execution_count": 97,
   "id": "d5923598",
   "metadata": {
    "scrolled": true
   },
   "outputs": [
    {
     "name": "stdout",
     "output_type": "stream",
     "text": [
      "Duplicate data: 1350\n"
     ]
    },
    {
     "data": {
      "text/html": [
       "<div>\n",
       "<style scoped>\n",
       "    .dataframe tbody tr th:only-of-type {\n",
       "        vertical-align: middle;\n",
       "    }\n",
       "\n",
       "    .dataframe tbody tr th {\n",
       "        vertical-align: top;\n",
       "    }\n",
       "\n",
       "    .dataframe thead th {\n",
       "        text-align: right;\n",
       "    }\n",
       "</style>\n",
       "<table border=\"1\" class=\"dataframe\">\n",
       "  <thead>\n",
       "    <tr style=\"text-align: right;\">\n",
       "      <th></th>\n",
       "      <th>processed_text</th>\n",
       "      <th>class</th>\n",
       "      <th>word_count</th>\n",
       "    </tr>\n",
       "    <tr>\n",
       "      <th>Column1</th>\n",
       "      <th></th>\n",
       "      <th></th>\n",
       "      <th></th>\n",
       "    </tr>\n",
       "  </thead>\n",
       "  <tbody>\n",
       "    <tr>\n",
       "      <th>17095</th>\n",
       "      <td>chờ tuần sách</td>\n",
       "      <td>0</td>\n",
       "      <td>3</td>\n",
       "    </tr>\n",
       "    <tr>\n",
       "      <th>23289</th>\n",
       "      <td>sản_phẩm rất_tệ tưởng</td>\n",
       "      <td>0</td>\n",
       "      <td>3</td>\n",
       "    </tr>\n",
       "    <tr>\n",
       "      <th>27948</th>\n",
       "      <td>bọc sách hỏng</td>\n",
       "      <td>0</td>\n",
       "      <td>3</td>\n",
       "    </tr>\n",
       "    <tr>\n",
       "      <th>28462</th>\n",
       "      <td>truyện rách bìa</td>\n",
       "      <td>0</td>\n",
       "      <td>3</td>\n",
       "    </tr>\n",
       "    <tr>\n",
       "      <th>33421</th>\n",
       "      <td>không_bookcare không_đóng gói</td>\n",
       "      <td>0</td>\n",
       "      <td>3</td>\n",
       "    </tr>\n",
       "    <tr>\n",
       "      <th>...</th>\n",
       "      <td>...</td>\n",
       "      <td>...</td>\n",
       "      <td>...</td>\n",
       "    </tr>\n",
       "    <tr>\n",
       "      <th>20925</th>\n",
       "      <td>mặt đóng_gói hàng dịch chấp_nhận đóng_gói sơ_s...</td>\n",
       "      <td>1</td>\n",
       "      <td>91</td>\n",
       "    </tr>\n",
       "    <tr>\n",
       "      <th>29701</th>\n",
       "      <td>mặt đóng_gói hàng dịch chấp_nhận đóng_gói sơ_s...</td>\n",
       "      <td>1</td>\n",
       "      <td>91</td>\n",
       "    </tr>\n",
       "    <tr>\n",
       "      <th>51199</th>\n",
       "      <td>đóng gói hàng ẩu_tả sách bị_móp góc kiểm chất_...</td>\n",
       "      <td>0</td>\n",
       "      <td>99</td>\n",
       "    </tr>\n",
       "    <tr>\n",
       "      <th>27427</th>\n",
       "      <td>đóng gói hàng ẩu_tả sách bị_móp góc kiểm chất_...</td>\n",
       "      <td>0</td>\n",
       "      <td>100</td>\n",
       "    </tr>\n",
       "    <tr>\n",
       "      <th>31579</th>\n",
       "      <td>đóng gói hàng ẩu_tả sách bị_móp góc kiểm chất_...</td>\n",
       "      <td>0</td>\n",
       "      <td>100</td>\n",
       "    </tr>\n",
       "  </tbody>\n",
       "</table>\n",
       "<p>1350 rows × 3 columns</p>\n",
       "</div>"
      ],
      "text/plain": [
       "                                            processed_text  class  word_count\n",
       "Column1                                                                      \n",
       "17095                                        chờ tuần sách      0           3\n",
       "23289                                sản_phẩm rất_tệ tưởng      0           3\n",
       "27948                                        bọc sách hỏng      0           3\n",
       "28462                                      truyện rách bìa      0           3\n",
       "33421                        không_bookcare không_đóng gói      0           3\n",
       "...                                                    ...    ...         ...\n",
       "20925    mặt đóng_gói hàng dịch chấp_nhận đóng_gói sơ_s...      1          91\n",
       "29701    mặt đóng_gói hàng dịch chấp_nhận đóng_gói sơ_s...      1          91\n",
       "51199    đóng gói hàng ẩu_tả sách bị_móp góc kiểm chất_...      0          99\n",
       "27427    đóng gói hàng ẩu_tả sách bị_móp góc kiểm chất_...      0         100\n",
       "31579    đóng gói hàng ẩu_tả sách bị_móp góc kiểm chất_...      0         100\n",
       "\n",
       "[1350 rows x 3 columns]"
      ]
     },
     "execution_count": 97,
     "metadata": {},
     "output_type": "execute_result"
    }
   ],
   "source": [
    "# Display duplicate rows\n",
    "print('Duplicate data:', df.duplicated().sum())\n",
    "df[df.duplicated()]"
   ]
  },
  {
   "cell_type": "code",
   "execution_count": 98,
   "id": "eaaa5baa",
   "metadata": {
    "scrolled": true
   },
   "outputs": [
    {
     "name": "stdout",
     "output_type": "stream",
     "text": [
      "Duplicate data: 0\n",
      "(35582, 3)\n"
     ]
    }
   ],
   "source": [
    "# Drop all duplicate rows\n",
    "df.drop_duplicates(inplace=True)\n",
    "print('Duplicate data:', df.duplicated().sum())\n",
    "print(df.shape)\n",
    "# Reset index\n",
    "df.reset_index(drop=True, inplace=True)"
   ]
  },
  {
   "cell_type": "code",
   "execution_count": 99,
   "id": "c7a166fe",
   "metadata": {},
   "outputs": [
    {
     "data": {
      "text/plain": [
       "1    26615\n",
       "0     8967\n",
       "Name: class, dtype: int64"
      ]
     },
     "execution_count": 99,
     "metadata": {},
     "output_type": "execute_result"
    }
   ],
   "source": [
    "df['class'].value_counts()"
   ]
  },
  {
   "attachments": {},
   "cell_type": "markdown",
   "id": "d0fc9149",
   "metadata": {},
   "source": [
    "### TF-IDF Vectorizer"
   ]
  },
  {
   "cell_type": "code",
   "execution_count": 100,
   "id": "69b3918e",
   "metadata": {},
   "outputs": [],
   "source": [
    "# Create a TfidfVectorizer object\n",
    "tfidf_vectorizer = TfidfVectorizer(ngram_range=(1, 2), min_df=0.02)"
   ]
  },
  {
   "cell_type": "code",
   "execution_count": 101,
   "id": "12a74828",
   "metadata": {},
   "outputs": [],
   "source": [
    "# Fit the TfidfVectorizer object to the data\n",
    "x = tfidf_vectorizer.fit(df['processed_text'].values.astype('U'))"
   ]
  },
  {
   "cell_type": "code",
   "execution_count": 102,
   "id": "ab166647",
   "metadata": {},
   "outputs": [],
   "source": [
    "# Transform the data\n",
    "X = tfidf_vectorizer.transform(df['processed_text'].values.astype('U'))"
   ]
  },
  {
   "cell_type": "code",
   "execution_count": 103,
   "id": "30337165",
   "metadata": {},
   "outputs": [],
   "source": [
    "### BUG: \n",
    "# This is probably because you are using an older scikit-learn version than the one this code was written for.\n",
    "# get_feature_names_out is a method of the class sklearn.feature_extraction.text.TfidfVectorizer since scikit-learn 1.0. Previously, there was a similar method called get_feature_names.\n",
    "# So you should update your scikit-learn package, or use the old method (not recommended).\n",
    "# Create a new dataframe with the transformed data\n",
    "df_new = pd.DataFrame(X.toarray(), columns=tfidf_vectorizer.get_feature_names_out())"
   ]
  },
  {
   "cell_type": "code",
   "execution_count": 104,
   "id": "d7afec27",
   "metadata": {
    "scrolled": false
   },
   "outputs": [
    {
     "data": {
      "text/html": [
       "<div>\n",
       "<style scoped>\n",
       "    .dataframe tbody tr th:only-of-type {\n",
       "        vertical-align: middle;\n",
       "    }\n",
       "\n",
       "    .dataframe tbody tr th {\n",
       "        vertical-align: top;\n",
       "    }\n",
       "\n",
       "    .dataframe thead th {\n",
       "        text-align: right;\n",
       "    }\n",
       "</style>\n",
       "<table border=\"1\" class=\"dataframe\">\n",
       "  <thead>\n",
       "    <tr style=\"text-align: right;\">\n",
       "      <th></th>\n",
       "      <th>bàn</th>\n",
       "      <th>bé</th>\n",
       "      <th>bìa</th>\n",
       "      <th>bìa sách</th>\n",
       "      <th>bẩn</th>\n",
       "      <th>bọc</th>\n",
       "      <th>chất_lượng</th>\n",
       "      <th>chất_lượng sách</th>\n",
       "      <th>chống</th>\n",
       "      <th>chống sốc</th>\n",
       "      <th>...</th>\n",
       "      <th>đóng gói</th>\n",
       "      <th>đóng_gói</th>\n",
       "      <th>đóng_gói cẩn_thận</th>\n",
       "      <th>đơn</th>\n",
       "      <th>đầu</th>\n",
       "      <th>đẹp</th>\n",
       "      <th>đọc</th>\n",
       "      <th>đọc sách</th>\n",
       "      <th>đổi</th>\n",
       "      <th>ổn</th>\n",
       "    </tr>\n",
       "  </thead>\n",
       "  <tbody>\n",
       "    <tr>\n",
       "      <th>0</th>\n",
       "      <td>0.0</td>\n",
       "      <td>0.0</td>\n",
       "      <td>0.0</td>\n",
       "      <td>0.0</td>\n",
       "      <td>0.0</td>\n",
       "      <td>0.0</td>\n",
       "      <td>0.0</td>\n",
       "      <td>0.0</td>\n",
       "      <td>0.0</td>\n",
       "      <td>0.0</td>\n",
       "      <td>...</td>\n",
       "      <td>0.0</td>\n",
       "      <td>0.0</td>\n",
       "      <td>0.0</td>\n",
       "      <td>0.0</td>\n",
       "      <td>0.0</td>\n",
       "      <td>0.0</td>\n",
       "      <td>0.0000</td>\n",
       "      <td>0.0</td>\n",
       "      <td>0.0</td>\n",
       "      <td>0.0</td>\n",
       "    </tr>\n",
       "    <tr>\n",
       "      <th>1</th>\n",
       "      <td>0.0</td>\n",
       "      <td>0.0</td>\n",
       "      <td>0.0</td>\n",
       "      <td>0.0</td>\n",
       "      <td>0.0</td>\n",
       "      <td>0.0</td>\n",
       "      <td>0.0</td>\n",
       "      <td>0.0</td>\n",
       "      <td>0.0</td>\n",
       "      <td>0.0</td>\n",
       "      <td>...</td>\n",
       "      <td>0.0</td>\n",
       "      <td>0.0</td>\n",
       "      <td>0.0</td>\n",
       "      <td>0.0</td>\n",
       "      <td>0.0</td>\n",
       "      <td>0.0</td>\n",
       "      <td>0.0000</td>\n",
       "      <td>0.0</td>\n",
       "      <td>0.0</td>\n",
       "      <td>0.0</td>\n",
       "    </tr>\n",
       "    <tr>\n",
       "      <th>2</th>\n",
       "      <td>0.0</td>\n",
       "      <td>0.0</td>\n",
       "      <td>0.0</td>\n",
       "      <td>0.0</td>\n",
       "      <td>0.0</td>\n",
       "      <td>0.0</td>\n",
       "      <td>0.0</td>\n",
       "      <td>0.0</td>\n",
       "      <td>0.0</td>\n",
       "      <td>0.0</td>\n",
       "      <td>...</td>\n",
       "      <td>0.0</td>\n",
       "      <td>0.0</td>\n",
       "      <td>0.0</td>\n",
       "      <td>0.0</td>\n",
       "      <td>0.0</td>\n",
       "      <td>0.0</td>\n",
       "      <td>0.3254</td>\n",
       "      <td>0.0</td>\n",
       "      <td>0.0</td>\n",
       "      <td>0.0</td>\n",
       "    </tr>\n",
       "    <tr>\n",
       "      <th>3</th>\n",
       "      <td>0.0</td>\n",
       "      <td>0.0</td>\n",
       "      <td>0.0</td>\n",
       "      <td>0.0</td>\n",
       "      <td>0.0</td>\n",
       "      <td>0.0</td>\n",
       "      <td>0.0</td>\n",
       "      <td>0.0</td>\n",
       "      <td>0.0</td>\n",
       "      <td>0.0</td>\n",
       "      <td>...</td>\n",
       "      <td>0.0</td>\n",
       "      <td>0.0</td>\n",
       "      <td>0.0</td>\n",
       "      <td>0.0</td>\n",
       "      <td>0.0</td>\n",
       "      <td>0.0</td>\n",
       "      <td>0.0000</td>\n",
       "      <td>0.0</td>\n",
       "      <td>0.0</td>\n",
       "      <td>0.0</td>\n",
       "    </tr>\n",
       "    <tr>\n",
       "      <th>4</th>\n",
       "      <td>0.0</td>\n",
       "      <td>0.0</td>\n",
       "      <td>0.0</td>\n",
       "      <td>0.0</td>\n",
       "      <td>0.0</td>\n",
       "      <td>0.0</td>\n",
       "      <td>0.0</td>\n",
       "      <td>0.0</td>\n",
       "      <td>0.0</td>\n",
       "      <td>0.0</td>\n",
       "      <td>...</td>\n",
       "      <td>0.0</td>\n",
       "      <td>0.0</td>\n",
       "      <td>0.0</td>\n",
       "      <td>0.0</td>\n",
       "      <td>0.0</td>\n",
       "      <td>0.0</td>\n",
       "      <td>0.0000</td>\n",
       "      <td>0.0</td>\n",
       "      <td>0.0</td>\n",
       "      <td>0.0</td>\n",
       "    </tr>\n",
       "  </tbody>\n",
       "</table>\n",
       "<p>5 rows × 107 columns</p>\n",
       "</div>"
      ],
      "text/plain": [
       "   bàn   bé  bìa  bìa sách  bẩn  bọc  chất_lượng  chất_lượng sách  chống  \\\n",
       "0  0.0  0.0  0.0       0.0  0.0  0.0         0.0              0.0    0.0   \n",
       "1  0.0  0.0  0.0       0.0  0.0  0.0         0.0              0.0    0.0   \n",
       "2  0.0  0.0  0.0       0.0  0.0  0.0         0.0              0.0    0.0   \n",
       "3  0.0  0.0  0.0       0.0  0.0  0.0         0.0              0.0    0.0   \n",
       "4  0.0  0.0  0.0       0.0  0.0  0.0         0.0              0.0    0.0   \n",
       "\n",
       "   chống sốc  ...  đóng gói  đóng_gói  đóng_gói cẩn_thận  đơn  đầu  đẹp  \\\n",
       "0        0.0  ...       0.0       0.0                0.0  0.0  0.0  0.0   \n",
       "1        0.0  ...       0.0       0.0                0.0  0.0  0.0  0.0   \n",
       "2        0.0  ...       0.0       0.0                0.0  0.0  0.0  0.0   \n",
       "3        0.0  ...       0.0       0.0                0.0  0.0  0.0  0.0   \n",
       "4        0.0  ...       0.0       0.0                0.0  0.0  0.0  0.0   \n",
       "\n",
       "      đọc  đọc sách  đổi   ổn  \n",
       "0  0.0000       0.0  0.0  0.0  \n",
       "1  0.0000       0.0  0.0  0.0  \n",
       "2  0.3254       0.0  0.0  0.0  \n",
       "3  0.0000       0.0  0.0  0.0  \n",
       "4  0.0000       0.0  0.0  0.0  \n",
       "\n",
       "[5 rows x 107 columns]"
      ]
     },
     "execution_count": 104,
     "metadata": {},
     "output_type": "execute_result"
    }
   ],
   "source": [
    "df_new.head()"
   ]
  },
  {
   "cell_type": "code",
   "execution_count": 105,
   "id": "228ed179",
   "metadata": {},
   "outputs": [],
   "source": [
    "y = df['class']"
   ]
  },
  {
   "cell_type": "code",
   "execution_count": 106,
   "id": "f18bf41a",
   "metadata": {
    "scrolled": true
   },
   "outputs": [
    {
     "name": "stdout",
     "output_type": "stream",
     "text": [
      "(35582, 107) (35582,)\n"
     ]
    }
   ],
   "source": [
    "print(X.shape, y.shape)"
   ]
  },
  {
   "attachments": {},
   "cell_type": "markdown",
   "id": "a22e83ab",
   "metadata": {},
   "source": [
    "### Resampling with SMOTE"
   ]
  },
  {
   "cell_type": "code",
   "execution_count": 107,
   "id": "53d52668",
   "metadata": {},
   "outputs": [],
   "source": [
    "from imblearn import under_sampling, over_sampling\n",
    "from imblearn.over_sampling import SMOTE"
   ]
  },
  {
   "cell_type": "code",
   "execution_count": 108,
   "id": "3945eacf",
   "metadata": {},
   "outputs": [],
   "source": [
    "smt = SMOTE()\n",
    "X_smt, y_smt = smt.fit_resample(X,y)"
   ]
  },
  {
   "attachments": {},
   "cell_type": "markdown",
   "id": "b6d16993",
   "metadata": {},
   "source": [
    "### Cross Validation"
   ]
  },
  {
   "cell_type": "code",
   "execution_count": 109,
   "id": "e5fb2822",
   "metadata": {
    "scrolled": true
   },
   "outputs": [
    {
     "name": "stdout",
     "output_type": "stream",
     "text": [
      "Test size:  0.3\n",
      "Run:  0\n",
      "Run:  1\n",
      "Run:  2\n",
      "Run:  3\n",
      "Run:  4\n",
      "Test size:  0.3  Train accuracy:  0.8042397719516602  Test accuracy:  0.8031662763466041\n",
      "--------------------------------------------------\n",
      "Test size:  0.2\n",
      "Run:  0\n",
      "Run:  1\n",
      "Run:  2\n",
      "Run:  3\n",
      "Run:  4\n",
      "Test size:  0.2  Train accuracy:  0.8038924995608643  Test accuracy:  0.8023605451735281\n",
      "--------------------------------------------------\n"
     ]
    }
   ],
   "source": [
    "# Choose 0.3, 0.2 as the test size\n",
    "test_size_list = [.3, .2]\n",
    "# Run 5 times for each test_size\n",
    "for test_size in test_size_list:\n",
    "  print('Test size: ', test_size)\n",
    "  accuracy_train_list = []\n",
    "  accuracy_test_list = []\n",
    "  for i in range(5):\n",
    "    print('Run: ', i)\n",
    "    # Split the data into training and testing sets\n",
    "    X_train, X_test, y_train, y_test = train_test_split(X, y, test_size=test_size)\n",
    "    # Create a LogisticReg (for faster training)\n",
    "    clf = LogisticRegression()\n",
    "    # Train the classifier\n",
    "    clf.fit(X_train, y_train)\n",
    "    # Make predictions\n",
    "    y_pred = clf.predict(X_test)\n",
    "    # Calculate the accuracy\n",
    "    accuracy_train = accuracy_score(y_train, clf.predict(X_train))\n",
    "    accuracy_test = accuracy_score(y_test, y_pred)\n",
    "    accuracy_train_list.append(accuracy_train)\n",
    "    accuracy_test_list.append(accuracy_test)\n",
    "  print('Test size: ', test_size, ' Train accuracy: ', sum(accuracy_train_list) / len(accuracy_train_list), ' Test accuracy: ',\n",
    "      sum(accuracy_test_list) / len(accuracy_test_list))\n",
    "  print('--------------------------------------------------')"
   ]
  },
  {
   "cell_type": "code",
   "execution_count": 110,
   "id": "feeb1489",
   "metadata": {},
   "outputs": [],
   "source": [
    "# Split the data into training and testing sets\n",
    "X_train, X_test, y_train, y_test = train_test_split(X, y, test_size=0.3, random_state=42)"
   ]
  },
  {
   "attachments": {},
   "cell_type": "markdown",
   "id": "ca2d9a15",
   "metadata": {},
   "source": [
    "### Model Comparision"
   ]
  },
  {
   "cell_type": "code",
   "execution_count": 111,
   "id": "f0737fc6",
   "metadata": {},
   "outputs": [],
   "source": [
    "models = [\n",
    "    ExtraTreesClassifier(n_estimators=50),\n",
    "    ExtraTreesClassifier(n_estimators=100),\n",
    "    KNeighborsClassifier(n_neighbors=3),\n",
    "    KNeighborsClassifier(n_neighbors=5),\n",
    "    KNeighborsClassifier(n_neighbors=7),\n",
    "    XGBClassifier(),\n",
    "    LogisticRegression(multi_class='multinomial'),\n",
    "    MultinomialNB(),\n",
    "]"
   ]
  },
  {
   "cell_type": "code",
   "execution_count": 112,
   "id": "cbbc7a80",
   "metadata": {},
   "outputs": [],
   "source": [
    "def get_model_name(model):\n",
    "  model_name = model.__class__.__name__\n",
    "  if model_name == 'ExtraTreesClassifier':\n",
    "    model_name = model_name + '_' + str(model.n_estimators)\n",
    "  elif model_name == 'KNeighborsClassifier':\n",
    "    model_name = model_name + '_' + str(model.n_neighbors)\n",
    "    \n",
    "  return model_name"
   ]
  },
  {
   "cell_type": "code",
   "execution_count": 113,
   "id": "18f414e1",
   "metadata": {},
   "outputs": [
    {
     "name": "stdout",
     "output_type": "stream",
     "text": [
      "Model:  ExtraTreesClassifier_50 running...\n"
     ]
    },
    {
     "name": "stderr",
     "output_type": "stream",
     "text": [
      "C:\\Users\\tinhdaubuoi\\AppData\\Local\\Temp\\ipykernel_15996\\3118795572.py:20: FutureWarning: The frame.append method is deprecated and will be removed from pandas in a future version. Use pandas.concat instead.\n",
      "  results = results.append({'Model': model_name,\n"
     ]
    },
    {
     "name": "stdout",
     "output_type": "stream",
     "text": [
      "Model:  ExtraTreesClassifier_100 running...\n"
     ]
    },
    {
     "name": "stderr",
     "output_type": "stream",
     "text": [
      "C:\\Users\\tinhdaubuoi\\AppData\\Local\\Temp\\ipykernel_15996\\3118795572.py:20: FutureWarning: The frame.append method is deprecated and will be removed from pandas in a future version. Use pandas.concat instead.\n",
      "  results = results.append({'Model': model_name,\n"
     ]
    },
    {
     "name": "stdout",
     "output_type": "stream",
     "text": [
      "Model:  KNeighborsClassifier_3 running...\n"
     ]
    },
    {
     "name": "stderr",
     "output_type": "stream",
     "text": [
      "C:\\Users\\tinhdaubuoi\\AppData\\Local\\Temp\\ipykernel_15996\\3118795572.py:20: FutureWarning: The frame.append method is deprecated and will be removed from pandas in a future version. Use pandas.concat instead.\n",
      "  results = results.append({'Model': model_name,\n"
     ]
    },
    {
     "name": "stdout",
     "output_type": "stream",
     "text": [
      "Model:  KNeighborsClassifier_5 running...\n"
     ]
    },
    {
     "name": "stderr",
     "output_type": "stream",
     "text": [
      "C:\\Users\\tinhdaubuoi\\AppData\\Local\\Temp\\ipykernel_15996\\3118795572.py:20: FutureWarning: The frame.append method is deprecated and will be removed from pandas in a future version. Use pandas.concat instead.\n",
      "  results = results.append({'Model': model_name,\n"
     ]
    },
    {
     "name": "stdout",
     "output_type": "stream",
     "text": [
      "Model:  KNeighborsClassifier_7 running...\n"
     ]
    },
    {
     "name": "stderr",
     "output_type": "stream",
     "text": [
      "C:\\Users\\tinhdaubuoi\\AppData\\Local\\Temp\\ipykernel_15996\\3118795572.py:20: FutureWarning: The frame.append method is deprecated and will be removed from pandas in a future version. Use pandas.concat instead.\n",
      "  results = results.append({'Model': model_name,\n"
     ]
    },
    {
     "name": "stdout",
     "output_type": "stream",
     "text": [
      "Model:  XGBClassifier running...\n"
     ]
    },
    {
     "name": "stderr",
     "output_type": "stream",
     "text": [
      "C:\\Users\\tinhdaubuoi\\AppData\\Local\\Temp\\ipykernel_15996\\3118795572.py:20: FutureWarning: The frame.append method is deprecated and will be removed from pandas in a future version. Use pandas.concat instead.\n",
      "  results = results.append({'Model': model_name,\n"
     ]
    },
    {
     "name": "stdout",
     "output_type": "stream",
     "text": [
      "Model:  LogisticRegression running...\n",
      "Model:  MultinomialNB running...\n"
     ]
    },
    {
     "name": "stderr",
     "output_type": "stream",
     "text": [
      "C:\\Users\\tinhdaubuoi\\AppData\\Local\\Temp\\ipykernel_15996\\3118795572.py:20: FutureWarning: The frame.append method is deprecated and will be removed from pandas in a future version. Use pandas.concat instead.\n",
      "  results = results.append({'Model': model_name,\n",
      "C:\\Users\\tinhdaubuoi\\AppData\\Local\\Temp\\ipykernel_15996\\3118795572.py:20: FutureWarning: The frame.append method is deprecated and will be removed from pandas in a future version. Use pandas.concat instead.\n",
      "  results = results.append({'Model': model_name,\n"
     ]
    }
   ],
   "source": [
    "# Number of folds for cross validation\n",
    "num_folds = 5\n",
    "# A dataframe to store the results\n",
    "results = pd.DataFrame(columns=['Model', 'Accuracy Mean', 'Accuracy 3 * STD', 'Time'])\n",
    "# Integrate through models\n",
    "for model in models:\n",
    "  # Get model name\n",
    "  model_name = get_model_name(model)  \n",
    "  print('Model: ', model_name, 'running...')\n",
    "  # Get the current time\n",
    "  start_time = datetime.now()  \n",
    "  # Perform cross validation\n",
    "  cv_results = cross_val_score(model, X_train, y_train, cv=num_folds, scoring='accuracy', n_jobs=-1)  \n",
    "  # Get the training time\n",
    "  train_time = datetime.now() - start_time  \n",
    "  # Get the mean and std of the results\n",
    "  mean_cv_results = cv_results.mean()\n",
    "  std_cv_results = cv_results.std()  \n",
    "  # Store the results\n",
    "  results = results.append({'Model': model_name,\n",
    "                            'Accuracy Mean': mean_cv_results,\n",
    "                            'Accuracy 3 * STD': 3 * std_cv_results,\n",
    "                            'Time': train_time\n",
    "                            }, ignore_index=True)"
   ]
  },
  {
   "attachments": {},
   "cell_type": "markdown",
   "id": "d5721d2d",
   "metadata": {},
   "source": [
    "### Metric result"
   ]
  },
  {
   "cell_type": "code",
   "execution_count": 114,
   "id": "67b6a903",
   "metadata": {},
   "outputs": [
    {
     "data": {
      "text/html": [
       "<div>\n",
       "<style scoped>\n",
       "    .dataframe tbody tr th:only-of-type {\n",
       "        vertical-align: middle;\n",
       "    }\n",
       "\n",
       "    .dataframe tbody tr th {\n",
       "        vertical-align: top;\n",
       "    }\n",
       "\n",
       "    .dataframe thead th {\n",
       "        text-align: right;\n",
       "    }\n",
       "</style>\n",
       "<table border=\"1\" class=\"dataframe\">\n",
       "  <thead>\n",
       "    <tr style=\"text-align: right;\">\n",
       "      <th></th>\n",
       "      <th>Model</th>\n",
       "      <th>Accuracy Mean</th>\n",
       "      <th>Accuracy 3 * STD</th>\n",
       "      <th>Time</th>\n",
       "    </tr>\n",
       "  </thead>\n",
       "  <tbody>\n",
       "    <tr>\n",
       "      <th>0</th>\n",
       "      <td>XGBClassifier</td>\n",
       "      <td>0.804794</td>\n",
       "      <td>0.010561</td>\n",
       "      <td>0 days 00:00:05.081269</td>\n",
       "    </tr>\n",
       "    <tr>\n",
       "      <th>1</th>\n",
       "      <td>LogisticRegression</td>\n",
       "      <td>0.800940</td>\n",
       "      <td>0.010891</td>\n",
       "      <td>0 days 00:00:00.359201</td>\n",
       "    </tr>\n",
       "    <tr>\n",
       "      <th>2</th>\n",
       "      <td>ExtraTreesClassifier_100</td>\n",
       "      <td>0.800739</td>\n",
       "      <td>0.011180</td>\n",
       "      <td>0 days 00:00:24.785652</td>\n",
       "    </tr>\n",
       "    <tr>\n",
       "      <th>3</th>\n",
       "      <td>ExtraTreesClassifier_50</td>\n",
       "      <td>0.799133</td>\n",
       "      <td>0.008925</td>\n",
       "      <td>0 days 00:00:15.768028</td>\n",
       "    </tr>\n",
       "    <tr>\n",
       "      <th>4</th>\n",
       "      <td>MultinomialNB</td>\n",
       "      <td>0.787610</td>\n",
       "      <td>0.015868</td>\n",
       "      <td>0 days 00:00:00.155178</td>\n",
       "    </tr>\n",
       "    <tr>\n",
       "      <th>5</th>\n",
       "      <td>KNeighborsClassifier_7</td>\n",
       "      <td>0.776127</td>\n",
       "      <td>0.011583</td>\n",
       "      <td>0 days 00:00:05.515771</td>\n",
       "    </tr>\n",
       "    <tr>\n",
       "      <th>6</th>\n",
       "      <td>KNeighborsClassifier_5</td>\n",
       "      <td>0.773116</td>\n",
       "      <td>0.010857</td>\n",
       "      <td>0 days 00:00:06.405106</td>\n",
       "    </tr>\n",
       "    <tr>\n",
       "      <th>7</th>\n",
       "      <td>KNeighborsClassifier_3</td>\n",
       "      <td>0.757940</td>\n",
       "      <td>0.009355</td>\n",
       "      <td>0 days 00:00:06.336375</td>\n",
       "    </tr>\n",
       "  </tbody>\n",
       "</table>\n",
       "</div>"
      ],
      "text/plain": [
       "                      Model  Accuracy Mean  Accuracy 3 * STD  \\\n",
       "0             XGBClassifier       0.804794          0.010561   \n",
       "1        LogisticRegression       0.800940          0.010891   \n",
       "2  ExtraTreesClassifier_100       0.800739          0.011180   \n",
       "3   ExtraTreesClassifier_50       0.799133          0.008925   \n",
       "4             MultinomialNB       0.787610          0.015868   \n",
       "5    KNeighborsClassifier_7       0.776127          0.011583   \n",
       "6    KNeighborsClassifier_5       0.773116          0.010857   \n",
       "7    KNeighborsClassifier_3       0.757940          0.009355   \n",
       "\n",
       "                    Time  \n",
       "0 0 days 00:00:05.081269  \n",
       "1 0 days 00:00:00.359201  \n",
       "2 0 days 00:00:24.785652  \n",
       "3 0 days 00:00:15.768028  \n",
       "4 0 days 00:00:00.155178  \n",
       "5 0 days 00:00:05.515771  \n",
       "6 0 days 00:00:06.405106  \n",
       "7 0 days 00:00:06.336375  "
      ]
     },
     "execution_count": 114,
     "metadata": {},
     "output_type": "execute_result"
    }
   ],
   "source": [
    "# Sort the dataframe by Accuracy Mean in descending order\n",
    "results = results.sort_values(by='Accuracy Mean', ascending=False).reset_index(drop=True)\n",
    "results"
   ]
  },
  {
   "cell_type": "code",
   "execution_count": 115,
   "id": "47572645",
   "metadata": {},
   "outputs": [
    {
     "data": {
      "text/plain": [
       "Text(0.5, 1.0, 'Model Comparison')"
      ]
     },
     "execution_count": 115,
     "metadata": {},
     "output_type": "execute_result"
    },
    {
     "data": {
      "image/png": "[encoded data removed]",
      "text/plain": [
       "<Figure size 1000x800 with 1 Axes>"
      ]
     },
     "metadata": {},
     "output_type": "display_data"
    }
   ],
   "source": [
    "plt.figure(figsize=(10, 8))\n",
    "sns.barplot(x='Accuracy Mean', y='Model', data=results, palette='Set3')\n",
    "plt.title('Model Comparison')"
   ]
  },
  {
   "attachments": {},
   "cell_type": "markdown",
   "id": "b60a4906",
   "metadata": {},
   "source": [
    "###\n",
    "- Như vậy, ta có thể sơ bộ thấy mô hình logistic Reg cho kết quả tốt"
   ]
  },
  {
   "attachments": {},
   "cell_type": "markdown",
   "id": "fedbc574",
   "metadata": {},
   "source": [
    "### Classification Report"
   ]
  },
  {
   "attachments": {},
   "cell_type": "markdown",
   "id": "0c9c3fc1",
   "metadata": {},
   "source": [
    "### \n",
    "- Đối với bài toán phân loại này, chúng ta cần quan tâm tới high Recall rating not_like.\n",
    "- với high Recall cao, thì các True rating not-like phải cao, còn các False-not_like dự báo có thể cao hoặc thấp. "
   ]
  },
  {
   "attachments": {},
   "cell_type": "markdown",
   "id": "8bf1192f",
   "metadata": {},
   "source": [
    "### \n",
    "- Như vậy ta chon Logistic Regression cho việc tinh chỉnh mô hình tối ưu"
   ]
  },
  {
   "attachments": {},
   "cell_type": "markdown",
   "id": "7e3dd47c",
   "metadata": {},
   "source": [
    "### Logistic Regression"
   ]
  },
  {
   "attachments": {},
   "cell_type": "markdown",
   "id": "34aaf865",
   "metadata": {},
   "source": [
    "#### Hyperparameter tuning"
   ]
  },
  {
   "cell_type": "code",
   "execution_count": 116,
   "id": "3192ee08",
   "metadata": {},
   "outputs": [],
   "source": [
    "# Use GridSearchCV to find the best parameters for the models\n",
    "from sklearn.model_selection import GridSearchCV\n",
    "from sklearn.model_selection import RepeatedStratifiedKFold\n",
    "\n",
    "# Create a list of parameters of Logistic Regression for the GridSearchCV\n",
    "# define models and parameters\n",
    "model = LogisticRegression()\n",
    "solvers = ['newton-cg', 'lbfgs', 'liblinear']\n",
    "penalty = ['l2']\n",
    "c_values = [100, 10, 1.0, 0.1, 0.01]\n",
    "\n",
    "grid = dict(solver=solvers,penalty=penalty,C=c_values)\n",
    "#param_grid = {\n",
    "    #'n_estimators': [100,300, 500, 1000],\n",
    "    #'learning_rate':[0.001,0.01,0.1, 1]\n",
    "#}\n",
    "# Create a list of models to test\n",
    "clf_grid = GridSearchCV(estimator=model, param_grid=grid, n_jobs=-1,cv=5, scoring='accuracy', error_score=0)\n",
    "search_clf = clf_grid.fit(X_train, y_train)\n",
    "best_clf = search_clf.best_estimator_\n",
    "\n",
    "##Score\n",
    "#cross_clf = cross_val_score(best_clf, X_test, y_test, scoring='accuracy', cv=5, n_jobs=-1)"
   ]
  },
  {
   "cell_type": "code",
   "execution_count": 117,
   "id": "c5bd9b1d",
   "metadata": {},
   "outputs": [
    {
     "name": "stdout",
     "output_type": "stream",
     "text": [
      "Best params: {'C': 100, 'penalty': 'l2', 'solver': 'liblinear'}\n"
     ]
    }
   ],
   "source": [
    "print('Best params:', search_clf.best_params_)"
   ]
  },
  {
   "attachments": {},
   "cell_type": "markdown",
   "id": "0e5e164c",
   "metadata": {},
   "source": [
    "### Best Params"
   ]
  },
  {
   "cell_type": "code",
   "execution_count": 118,
   "id": "ff3d0ca4",
   "metadata": {
    "scrolled": true
   },
   "outputs": [],
   "source": [
    "## Create the best model\n",
    "best_model = LogisticRegression(C= 100,penalty='l2',solver= 'newton-cg')\n",
    "# Fit the best model to the training data\n",
    "best_model.fit(X_train, y_train)\n",
    "y_pred = best_model.predict(X_test)"
   ]
  },
  {
   "attachments": {},
   "cell_type": "markdown",
   "id": "881887c8",
   "metadata": {},
   "source": [
    "### Metrics to Report"
   ]
  },
  {
   "cell_type": "code",
   "execution_count": 119,
   "id": "f9b70aba",
   "metadata": {
    "scrolled": true
   },
   "outputs": [
    {
     "name": "stdout",
     "output_type": "stream",
     "text": [
      "Accuracy score for the best model on the training data:  80.347\n",
      "Accuracy score for the best model on the test data:  80.581\n"
     ]
    }
   ],
   "source": [
    "# Get the accuracy score for the best model\n",
    "accuracy_train = round(best_model.score(X_train, y_train) * 100, 3)\n",
    "accuracy_test = round(best_model.score(X_test, y_test) * 100, 3)\n",
    "print('Accuracy score for the best model on the training data: ', accuracy_train)\n",
    "print('Accuracy score for the best model on the test data: ', accuracy_test)"
   ]
  },
  {
   "cell_type": "code",
   "execution_count": 120,
   "id": "77c03076",
   "metadata": {},
   "outputs": [
    {
     "name": "stdout",
     "output_type": "stream",
     "text": [
      "              precision    recall  f1-score   support\n",
      "\n",
      "           0       0.69      0.42      0.53      2718\n",
      "           1       0.83      0.94      0.88      7957\n",
      "\n",
      "    accuracy                           0.81     10675\n",
      "   macro avg       0.76      0.68      0.70     10675\n",
      "weighted avg       0.79      0.81      0.79     10675\n",
      "\n"
     ]
    },
    {
     "data": {
      "text/plain": [
       "<sklearn.metrics._plot.confusion_matrix.ConfusionMatrixDisplay at 0x1de81f94310>"
      ]
     },
     "execution_count": 120,
     "metadata": {},
     "output_type": "execute_result"
    },
    {
     "data": {
      "image/png": "[encoded data removed]",
      "text/plain": [
       "<Figure size 800x550 with 2 Axes>"
      ]
     },
     "metadata": {},
     "output_type": "display_data"
    }
   ],
   "source": [
    "from sklearn.metrics import classification_report,ConfusionMatrixDisplay\n",
    "print(classification_report(y_test,y_pred))\n",
    "ConfusionMatrixDisplay.from_predictions(y_test,y_pred)"
   ]
  },
  {
   "cell_type": "code",
   "execution_count": 121,
   "id": "1f1e0b22",
   "metadata": {
    "scrolled": false
   },
   "outputs": [
    {
     "data": {
      "image/png": "[encoded data removed]",
      "text/plain": [
       "<Figure size 800x550 with 1 Axes>"
      ]
     },
     "metadata": {},
     "output_type": "display_data"
    },
    {
     "data": {
      "text/plain": [
       "<Axes: title={'center': 'ROC Curves for LogisticRegression'}, xlabel='False Positive Rate', ylabel='True Positive Rate'>"
      ]
     },
     "execution_count": 121,
     "metadata": {},
     "output_type": "execute_result"
    }
   ],
   "source": [
    "from yellowbrick.classifier import ConfusionMatrix, ClassificationReport, ROCAUC, roc_auc\n",
    "visualizer = ROCAUC(best_model, classes=y.unique())\n",
    "\n",
    "visualizer.fit(X_train, y_train)        # Fit the training data to the visualizer\n",
    "visualizer.score(X_test, y_test)        # Evaluate the model on the test data\n",
    "visualizer.show()"
   ]
  },
  {
   "attachments": {},
   "cell_type": "markdown",
   "id": "8ee42326",
   "metadata": {},
   "source": [
    "## Naive Bayes"
   ]
  },
  {
   "cell_type": "code",
   "execution_count": 122,
   "id": "9299164b",
   "metadata": {},
   "outputs": [],
   "source": [
    "# Use GridSearchCV to find the best parameters for the models\n",
    "from sklearn.model_selection import GridSearchCV\n",
    "from sklearn.model_selection import RepeatedStratifiedKFold\n",
    "\n",
    "# Create a list of parameters of Naive Bayes for the GridSearchCV\n",
    "# define models and parameters\n",
    "model2 = MultinomialNB()\n",
    "alpha = [0.1, 0.5, 1.0, 10.0]\n",
    "fit_prior = [True, False]\n",
    "\n",
    "grid2 = dict(alpha=alpha, fit_prior=fit_prior)\n",
    "#param_grid = {\n",
    "    #'n_estimators': [100,300, 500, 1000],\n",
    "    #'learning_rate':[0.001,0.01,0.1, 1]\n",
    "#}\n",
    "# Create a list of models to test\n",
    "clf_grid2 = GridSearchCV(estimator=model2, param_grid=grid2, n_jobs=-1,cv=5, scoring='accuracy', error_score=0)\n",
    "search_clf2 = clf_grid2.fit(X_train, y_train)\n",
    "best_clf2 = search_clf2.best_estimator_  \n",
    "##Score\n",
    "#cross_clf = cross_val_score(best_clf, X_test, y_test, scoring='accuracy', cv=5, n_jobs=-1)"
   ]
  },
  {
   "cell_type": "code",
   "execution_count": 123,
   "id": "ee47f4c1",
   "metadata": {},
   "outputs": [
    {
     "name": "stdout",
     "output_type": "stream",
     "text": [
      "Best params: {'alpha': 1.0, 'fit_prior': True}\n"
     ]
    }
   ],
   "source": [
    "print('Best params:', search_clf2.best_params_)"
   ]
  },
  {
   "cell_type": "code",
   "execution_count": 124,
   "id": "94e71506",
   "metadata": {},
   "outputs": [],
   "source": [
    "#create best model\n",
    "best_model2 = MultinomialNB(alpha=0.1, fit_prior=True)\n",
    "# Fit the best model to the training data\n",
    "best_model2.fit(X_train, y_train)\n",
    "y_pred2 = best_model2.predict(X_test)"
   ]
  },
  {
   "cell_type": "code",
   "execution_count": 125,
   "id": "e2b103d9",
   "metadata": {},
   "outputs": [
    {
     "name": "stdout",
     "output_type": "stream",
     "text": [
      "Accuracy score for the best model on the training data:  78.837\n",
      "Accuracy score for the best model on the test data:  79.035\n"
     ]
    }
   ],
   "source": [
    "# Get the accuracy score for the best model\n",
    "accuracy_train2 = round(best_model2.score(X_train, y_train) * 100, 3)\n",
    "accuracy_test2 = round(best_model2.score(X_test, y_test) * 100, 3)\n",
    "print('Accuracy score for the best model on the training data: ', accuracy_train2)\n",
    "print('Accuracy score for the best model on the test data: ', accuracy_test2)"
   ]
  },
  {
   "cell_type": "code",
   "execution_count": 126,
   "id": "fc982063",
   "metadata": {},
   "outputs": [
    {
     "name": "stdout",
     "output_type": "stream",
     "text": [
      "              precision    recall  f1-score   support\n",
      "\n",
      "           0       0.77      0.25      0.38      2718\n",
      "           1       0.79      0.97      0.87      7957\n",
      "\n",
      "    accuracy                           0.79     10675\n",
      "   macro avg       0.78      0.61      0.63     10675\n",
      "weighted avg       0.79      0.79      0.75     10675\n",
      "\n"
     ]
    },
    {
     "data": {
      "text/plain": [
       "<sklearn.metrics._plot.confusion_matrix.ConfusionMatrixDisplay at 0x1de87218700>"
      ]
     },
     "execution_count": 126,
     "metadata": {},
     "output_type": "execute_result"
    },
    {
     "data": {
      "image/png": "[encoded data removed]",
      "text/plain": [
       "<Figure size 800x550 with 2 Axes>"
      ]
     },
     "metadata": {},
     "output_type": "display_data"
    }
   ],
   "source": [
    "from sklearn.metrics import classification_report,ConfusionMatrixDisplay\n",
    "print(classification_report(y_test,y_pred2))\n",
    "ConfusionMatrixDisplay.from_predictions(y_test,y_pred2)"
   ]
  }
 ],
 "metadata": {
  "kernelspec": {
   "display_name": "Python 3 (ipykernel)",
   "language": "python",
   "name": "python3"
  },
  "language_info": {
   "codemirror_mode": {
    "name": "ipython",
    "version": 3
   },
   "file_extension": ".py",
   "mimetype": "text/x-python",
   "name": "python",
   "nbconvert_exporter": "python",
   "pygments_lexer": "ipython3",
   "version": "3.10.9"
  }
 },
 "nbformat": 4,
 "nbformat_minor": 5
}
