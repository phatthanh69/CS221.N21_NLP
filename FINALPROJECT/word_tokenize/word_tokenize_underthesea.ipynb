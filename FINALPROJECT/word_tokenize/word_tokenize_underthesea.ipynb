{
 "cells": [
  {
   "cell_type": "code",
   "execution_count": 30,
   "metadata": {},
   "outputs": [],
   "source": [
    "# word tokenize using underthesea\n",
    "import pandas as pd\n",
    "import numpy as np\n",
    "from underthesea import word_tokenize\n",
    "\n",
    "\n",
    "def word_tokenize_underthesea(text):\n",
    "    return word_tokenize(text, format=\"text\")\n",
    "\n",
    "\n",
    "# read content.txt\n",
    "with open('full_sentences.txt', 'r', encoding='utf-8') as f:\n",
    "    content = f.read()\n",
    "\n",
    "# word tokenize with underthesea\n",
    "content_under = word_tokenize_underthesea(content)\n",
    "# split \"/n\" to string\n",
    "content_under = content_under.split(\"/n\")\n"
   ]
  },
  {
   "cell_type": "code",
   "execution_count": 31,
   "metadata": {},
   "outputs": [
    {
     "data": {
      "text/plain": [
       "['Sách lúc nhận hình_thức rất ổn , không cong vênh xước gãy , đơn hàng này mình hài_lòng với bên bán Sách được giao nguyên_vẹn , nội_dung rất hay và ý_nghĩa Nhiều bạn phàn_nàn sao không dùng xốp hay bọc chống sốc , nhưng như_vậy cực_kì ô_nhiễm môi_trường 1 cách không cần_thiết , vì sách không phải hàng dễ vỡ và đọc 1 thời_gian cũng cũ , quan_trọng là nội_dung truyền_tải Mình đã thích quyển sách này từ lâu , vậy_nên thật tuyệt vì mình cuối_cùng đã mua được Cây Cam Ngọt Của Tôi với giá khá ổn Sách bọc cẩn_thận , nội_dung sách rất hay , người đọc như được trở_về tuổi_thơ với những trò tinh_nghịch Quyển sách rất hay luôn , đây là lần đầu mình đọc thể_loại tiểu_thuyết , cứ sợ rằng sẽ đọc không quen Nhưng những câu từ và nội_dung của quyển sách cứ lôi_kéo mình đọc hết trang này đến trang khác Cuốn sách này thật tuyệt_vời , mình thích cách in_ấn và chọn_lọc nội_dung cho sách từ Nhã Nam Một quyển sách tuyệt_vời viết dưới góc nhìn của một em bé , mình thấy thật may_mắn khi đọc được một quyển sách hay đến vậy . Trước khi nhận cuốn sách này mình nghĩ em nó sẽ dày và dài cơ nhưng không , em nó nhỏ_nhắn xinh_xắn , không quá dài với màu_sắc đặc_biệt , khi bắt_đầu_đọc và khám_phá em nó đã khiến mình đọc 1_mạch đến hết trong buổi chiều tối Bìa cực xinh , giao hàng nhanh , sách không bị nhăn góc , gãy cạnh hay bẩn gì hết Tác_phẩm kinh_điển , nội_dung hay xuất_sắc luôn , đoạn đầu_đọc buồn_cười chết đi được nhưng dần về sau càng thấm , đượm buồn Tui đã khóc rất nhiều vì tui nhìn thấy được chính bản_thân tui lúc nhỏ , đến bây_giờ vẫn còn ám_ảnh Sách hay lắm , đáng tiền lắm luôn ạ Sách bìa đẹp , nội_dung thì đúng hay và ý_nghĩa luôn , nhận ra được vẻ đẹp thực_sự từ điều đơn_giản nhất Cuốn sách rất hay , vẻn_vẹn hơn 200 trang nhưng nội_dung ẩn_chứa sâu_sắc và lắng_đọng lắm Mình thấy mọi người ai chưa có cơ_hội đọc thì nên đọc đi nhé , bổ_ích lắm luôn Sách của Nhã_Nam rất đẹp , lỗi_in thì có_thể liên_hệ Nhã Nam để đổi được Cũng may mình mua nhiều nên vừa hộp , ko bị lỗi gáy sách mấy , nhưng cũng bị nhăn gáy sách Cốt_truyện giản_dị , cuốn sách đã đưa tôi đi hết khung bậc cảm_xúc này đến khung bậc cảm_xúc khác , từ vui_tươi , thoải_mái cho đến giận_dữ và xót_xa Sách đẹp không bị móp méo , giao nhanh , hình minh_họa in rõ nét Biết tác_phẩm này đã lâu nhưng chưa đọc qua , sẵn đang giảm giá hốt luôn , giá quá rẻ so với chất_lượng này Bìa nhìn đẹp kinh_khủng luôn , nội_dung được truyền_tải thông_qua cuốn sách rất ý_nghĩa và nhân_văn , đôi_khi phải là người_lớn đọc thì mới có_thể cảm_nhận được sự sâu_sắc của nó Sách mới có bọc ngoài , có bìa ngoài sách nữa , em có lướt nhanh sách thì thấy chữ bên trong không bị lỗi gì hết Rất ấn_tượng với cách viết phóng_tác của Bác Nguyên Phong_cách viết lôi_cuốn , hấp_dẫn người đọc Cuốn sách rất hay đối_với người đọc tìm_hiểu về tâm_linh nói_chung và phật_giáo nói_riêng , sẽ tiếp_tục đồng_hành với các tác_phẩm tiếp_theo của tác_giả Sách đẹp từ bìa đến nội_dung được trình_bày bên trong , muôn_kiếp nhân_sinh là 1 cuốn sách hay mà chúng_ta nên đọc , cuốn sách mở ra cho chúng_ta một cái nhìn mới hay nói đúng hơn là một cái nhìn sâu_sắc hơn về quy_luật của vũ_trụ để từ đó chuyển hóa thay_đổi bản_thân Điểm cộng lớn nhất là khổ nhỏ vừa_tay , giấy và cách trình_bày siêu đẹp , về nội_dung sẽ phù_hợp với bạn_đọc nghiêng về các vấn_đề tôn_giáo và tâm_linh Cuốn sách cho ta cái nhìn tổng_quan và nhẹ_nhàng đón_nhận 2 kiến_thức mà trước đây nhiều người còn hoài_nghi đó là : luân_hồi và nhân_quả_Cảm_nhận sách tùy mỗi cá_nhân , lối viết văn lôi_cuốn , nội_dung không làm độc_giả nhàm_chán , có những ý_nghĩa tâm_linh nhất_định , tuy_nhiên lại có những yếu_tố hơi hoang_đường , dù_sao mình vẫn thích Đọc xong cuốn sách mình cảm thấy sách không quá thúc_đẩy động_lực trong mỗi chúng_ta , thay vào đó nó dạy mình cách để làm một người tốt hơn , thay_đổi theo hướng tích_cực nên các bạn nên mua và cảm_nhận nhé Nội_dung sách rất hay và bổ_ích , đặc_biệt cho những bạn trẻ và trong thời_điểm đầy lừa_lọc và cách sống vội_vã hiện_nay , thì đây là một quyển sách nên có trong tủ_sách gia_đình Cuốn sách với văn_phong nhẹ_nhàng , đầy tính triết_lý , có hơi_hướng tôn_giáo ( phật_giáo ) khá nhiều Câu_văn ngắt_quãng có_thể khiến nhiều người cảm_thấy bị ngắt_mạch liên_kết riêng mình lại rất thích vì cảm_thấy dễ đọc , mình có ngó qua bản_gốc tác_giả cũng viết như thế chứ không phải do ngụ_ý của dịch_giả Chắc_hẳn ai đọc cũng sẽ tìm thấy hình_ảnh của bản_thân trong từng trang sách để rồi chúng_ta tự hỏi bản_thân mình ? Mình để dưới nắng xong cái bìa nó lấp_lánh lấp_lánh đẹp cực Sách rất hay , chất_lượng sách rất tốt , từ cách trang_trí mặt bìa cho tới nội_dung bên trong Sách đẹp , mới_tinh , nội_dung hay , có kèm theo nhiều tranh minh_họa màu rất đẹp xuyên suốt trong từng trang sách , một quyển sách rất đáng để mua nha mọi người Đã bỏ tiền để bọc sách rồi nhưng nhìn chất_lượng quyển sách không_thể chấp_nhận được !_Sách còn mới , tuy_nhiên góc có vết và keo dán gáy sách thì như ảnh đây , không biết về lâu_dài khi mở sách đọc thì có vấn_đề gì không ? Không bàn về nội_dung vì mình chưa đọc Nhưng về cách đóng_gói sản_phẩm thì mình xin cạn_lời Không biết đây là sở_thích đóng_gói hay do mình xui ? Nội_dung , ý_nghĩa của sách thì không cần phải nhắc lại , nhưng bản dịch hơi thất_vọng , còn nhiều lỗi chính_tả trong sách như câu \" tôi không đừng được \" trang 40 , rồi vấn_đề ngoặc trong câu thoại ._Một quyển sách hay và ý_nghĩa , về mặt nội_dung mình rất hài_lòng với quyển sách này nhưng khi nhận hàng thì sách của mình bị cấn ngay góc Nhưng lại bị lỗi ở trang 51 và 52 ( bị rách ) , trang 57 ( bị rách ) như hình Thực_sự đọc đến đấy thấy bị hụt_hẫng và khó_chịu vô_cùng Sách có chiều dài là 16 cm , chiều rộng là 12 cm Sách bị lỗi nhỏ là từ trang 260 đến trang 270 bị lủng nhiều lỗ hàng dọc cách_đều , điều này khiến mình thật_sự chưa hài_lòng về sản_phẩm Sách bị dính cái gì bên hông như hình , nên mình không hài_lòng lắm , nội_dung thì chưa đọc nhưng mà sau khi đọc quyển “ Kiếp nào ta cũng tìm thấy nhau ” thì thích thể_loại như vậy và được bạn_bè đề_xuất cuốn này Chờ sách về mà cứ lo bị rách hay hỏng không thôi , nhưng may lần này ông_bà độ nên em nó không sao Sách có_vẻ cũ vì không có giấy_kính bao , không kẹo sách và các trang giấy không phẳng như quyển 2_Chữ cũng rõ_ràng dễ đọc chứ không khó ! Nhưng chất_lượng giấy hơi mỏng và gáy sách dễ bung ! Sách khổ nhỏ , dễ_thương , nhưng sách mở hộp ra đã thấy xước hết bìa , một góc còn bị cong và rách Sách bị ẩm , bong hết bìa , không được đẹp và sáng như lần trước mua Mình đặt quyển này cùng với hai quyển nữa nhưng chẳng hiểu sao khi giao đến thì chỉ có quyển này bị gãy Nội_dung thì quá hay , không có gì để chê , nhưng được_cái bản dịch của chị này từ \" nhà luyện_kim \" thành \" nhà luyện_kim_đan \" , thêm chữ “ đan ” thôi nhưng cảm_giác đọc không hay 1 sao cho dịch_vụ , không phải cho nội_dung cuốn sách , sách móp và xước rất nhiều Đóng_gói sách trong hộp giấy quá rộng mà không chèn thêm gì để cố_định hết nên qua quá_trình vận_chuyển_vị lắc và va_đập làm gáy và các góc_vuông của sách nó không được đẹp nữa Sách đến trang 208 thì nhảy hẳn sang_trang 225 Gói hàng cẩu tả , chỉ nhét rất ít các tông cũ cắt và sử_dụng như giấy rơm vào cho có , không có bọc chống sốc hay cái gì kê cả , dù sách nguyên vỏ nhưng đã bị móp và rách khiến tôi rất khó_chịu']"
      ]
     },
     "execution_count": 31,
     "metadata": {},
     "output_type": "execute_result"
    }
   ],
   "source": [
    "content_under"
   ]
  },
  {
   "cell_type": "code",
   "execution_count": 32,
   "metadata": {},
   "outputs": [],
   "source": [
    "#save to txt file\n",
    "with open('full_sentences_under.txt', 'w', encoding='utf-8') as f:\n",
    "    for item in content_under:\n",
    "        f.write(\"%s\\n\" % item)"
   ]
  },
  {
   "cell_type": "code",
   "execution_count": 16,
   "metadata": {},
   "outputs": [],
   "source": [
    "#save to txt file\n",
    "with open('full_sentences_under.txt', 'w', encoding='utf-8') as f:\n",
    "    for item in content_under:\n",
    "        f.write(\"%s\\n\" % item)"
   ]
  }
 ],
 "metadata": {
  "kernelspec": {
   "display_name": "base",
   "language": "python",
   "name": "python3"
  },
  "language_info": {
   "codemirror_mode": {
    "name": "ipython",
    "version": 3
   },
   "file_extension": ".py",
   "mimetype": "text/x-python",
   "name": "python",
   "nbconvert_exporter": "python",
   "pygments_lexer": "ipython3",
   "version": "3.10.9"
  },
  "orig_nbformat": 4
 },
 "nbformat": 4,
 "nbformat_minor": 2
}
